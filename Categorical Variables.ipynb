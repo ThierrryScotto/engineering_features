{
 "cells": [
  {
   "cell_type": "markdown",
   "source": [
    "# Dummy Variables"
   ],
   "metadata": {
    "collapsed": false
   }
  },
  {
   "cell_type": "code",
   "execution_count": 1,
   "metadata": {
    "collapsed": true
   },
   "outputs": [
    {
     "data": {
      "text/plain": "   age  workclass     education  gender  hours-per-week         occupation  \\\n0  age  workclass     education     sex  hours.per.week         occupation   \n1   90          ?       HS-grad  Female              40                  ?   \n2   82    Private       HS-grad  Female              18    Exec-managerial   \n3   66          ?  Some-college  Female              40                  ?   \n4   54    Private       7th-8th  Female              40  Machine-op-inspct   \n\n   income  \n0  income  \n1   <=50K  \n2   <=50K  \n3   <=50K  \n4   <=50K  ",
      "text/html": "<div>\n<style scoped>\n    .dataframe tbody tr th:only-of-type {\n        vertical-align: middle;\n    }\n\n    .dataframe tbody tr th {\n        vertical-align: top;\n    }\n\n    .dataframe thead th {\n        text-align: right;\n    }\n</style>\n<table border=\"1\" class=\"dataframe\">\n  <thead>\n    <tr style=\"text-align: right;\">\n      <th></th>\n      <th>age</th>\n      <th>workclass</th>\n      <th>education</th>\n      <th>gender</th>\n      <th>hours-per-week</th>\n      <th>occupation</th>\n      <th>income</th>\n    </tr>\n  </thead>\n  <tbody>\n    <tr>\n      <th>0</th>\n      <td>age</td>\n      <td>workclass</td>\n      <td>education</td>\n      <td>sex</td>\n      <td>hours.per.week</td>\n      <td>occupation</td>\n      <td>income</td>\n    </tr>\n    <tr>\n      <th>1</th>\n      <td>90</td>\n      <td>?</td>\n      <td>HS-grad</td>\n      <td>Female</td>\n      <td>40</td>\n      <td>?</td>\n      <td>&lt;=50K</td>\n    </tr>\n    <tr>\n      <th>2</th>\n      <td>82</td>\n      <td>Private</td>\n      <td>HS-grad</td>\n      <td>Female</td>\n      <td>18</td>\n      <td>Exec-managerial</td>\n      <td>&lt;=50K</td>\n    </tr>\n    <tr>\n      <th>3</th>\n      <td>66</td>\n      <td>?</td>\n      <td>Some-college</td>\n      <td>Female</td>\n      <td>40</td>\n      <td>?</td>\n      <td>&lt;=50K</td>\n    </tr>\n    <tr>\n      <th>4</th>\n      <td>54</td>\n      <td>Private</td>\n      <td>7th-8th</td>\n      <td>Female</td>\n      <td>40</td>\n      <td>Machine-op-inspct</td>\n      <td>&lt;=50K</td>\n    </tr>\n  </tbody>\n</table>\n</div>"
     },
     "metadata": {},
     "output_type": "display_data"
    }
   ],
   "source": [
    "import pandas as pd\n",
    "\n",
    "# The file has no headers naming the columns, so we pass header=None\n",
    "# and provide the column names explicitly in \"names\"\n",
    "data = pd.read_csv(\"adult.csv\", header=None, index_col=False,\n",
    "                       names=['age', 'workclass', 'fnlwgt', 'education',  'education-num','marital-status', 'occupation', 'relationship', 'race', 'gender','capital-gain', 'capital-loss', 'hours-per-week', 'native-country','income'])\n",
    "\n",
    "# For illustration purpose, we only select some of the columns\n",
    "data = data[['age', 'workclass', 'education', 'gender', 'hours-per-week','occupation', 'income']]\n",
    "\n",
    "# IPython.display allows nice output formatting within the Jupyter notebook\n",
    "display(data.head())"
   ]
  },
  {
   "cell_type": "code",
   "execution_count": 3,
   "outputs": [
    {
     "name": "stdout",
     "output_type": "stream",
     "text": [
      "Male      21790\n",
      "Female    10771\n",
      "sex           1\n",
      "Name: gender, dtype: int64\n"
     ]
    }
   ],
   "source": [
    "# Checking string-encoded categorical data\n",
    "print(data.gender.value_counts())"
   ],
   "metadata": {
    "collapsed": false,
    "pycharm": {
     "name": "#%%\n"
    }
   }
  },
  {
   "cell_type": "code",
   "execution_count": 4,
   "outputs": [],
   "source": [
    "# changing the sex data point\n",
    "data.loc[:, 'gender'] = data.gender.replace('sex', 'Female')"
   ],
   "metadata": {
    "collapsed": false,
    "pycharm": {
     "name": "#%%\n"
    }
   }
  },
  {
   "cell_type": "code",
   "execution_count": 5,
   "outputs": [
    {
     "name": "stdout",
     "output_type": "stream",
     "text": [
      "Male      21790\n",
      "Female    10772\n",
      "Name: gender, dtype: int64\n"
     ]
    }
   ],
   "source": [
    "print(data.gender.value_counts())"
   ],
   "metadata": {
    "collapsed": false,
    "pycharm": {
     "name": "#%%\n"
    }
   }
  },
  {
   "cell_type": "code",
   "execution_count": 10,
   "outputs": [
    {
     "name": "stdout",
     "output_type": "stream",
     "text": [
      "36     898\n",
      "31     888\n",
      "34     886\n",
      "23     877\n",
      "35     876\n",
      "      ... \n",
      "88       3\n",
      "85       3\n",
      "86       1\n",
      "age      1\n",
      "87       1\n",
      "Name: age, Length: 74, dtype: int64\n"
     ]
    }
   ],
   "source": [
    "print(data.age.value_counts())"
   ],
   "metadata": {
    "collapsed": false,
    "pycharm": {
     "name": "#%%\n"
    }
   }
  },
  {
   "cell_type": "code",
   "execution_count": 6,
   "outputs": [
    {
     "data": {
      "text/plain": "       age  workclass     education  gender  hours-per-week  \\\n0      age  workclass     education  Female  hours.per.week   \n1       90          ?       HS-grad  Female              40   \n2       82    Private       HS-grad  Female              18   \n3       66          ?  Some-college  Female              40   \n4       54    Private       7th-8th  Female              40   \n...    ...        ...           ...     ...             ...   \n32557   22    Private  Some-college    Male              40   \n32558   27    Private    Assoc-acdm  Female              38   \n32559   40    Private       HS-grad    Male              40   \n32560   58    Private       HS-grad  Female              40   \n32561   22    Private       HS-grad    Male              20   \n\n              occupation  income  \n0             occupation  income  \n1                      ?   <=50K  \n2        Exec-managerial   <=50K  \n3                      ?   <=50K  \n4      Machine-op-inspct   <=50K  \n...                  ...     ...  \n32557    Protective-serv   <=50K  \n32558       Tech-support   <=50K  \n32559  Machine-op-inspct    >50K  \n32560       Adm-clerical   <=50K  \n32561       Adm-clerical   <=50K  \n\n[32562 rows x 7 columns]",
      "text/html": "<div>\n<style scoped>\n    .dataframe tbody tr th:only-of-type {\n        vertical-align: middle;\n    }\n\n    .dataframe tbody tr th {\n        vertical-align: top;\n    }\n\n    .dataframe thead th {\n        text-align: right;\n    }\n</style>\n<table border=\"1\" class=\"dataframe\">\n  <thead>\n    <tr style=\"text-align: right;\">\n      <th></th>\n      <th>age</th>\n      <th>workclass</th>\n      <th>education</th>\n      <th>gender</th>\n      <th>hours-per-week</th>\n      <th>occupation</th>\n      <th>income</th>\n    </tr>\n  </thead>\n  <tbody>\n    <tr>\n      <th>0</th>\n      <td>age</td>\n      <td>workclass</td>\n      <td>education</td>\n      <td>Female</td>\n      <td>hours.per.week</td>\n      <td>occupation</td>\n      <td>income</td>\n    </tr>\n    <tr>\n      <th>1</th>\n      <td>90</td>\n      <td>?</td>\n      <td>HS-grad</td>\n      <td>Female</td>\n      <td>40</td>\n      <td>?</td>\n      <td>&lt;=50K</td>\n    </tr>\n    <tr>\n      <th>2</th>\n      <td>82</td>\n      <td>Private</td>\n      <td>HS-grad</td>\n      <td>Female</td>\n      <td>18</td>\n      <td>Exec-managerial</td>\n      <td>&lt;=50K</td>\n    </tr>\n    <tr>\n      <th>3</th>\n      <td>66</td>\n      <td>?</td>\n      <td>Some-college</td>\n      <td>Female</td>\n      <td>40</td>\n      <td>?</td>\n      <td>&lt;=50K</td>\n    </tr>\n    <tr>\n      <th>4</th>\n      <td>54</td>\n      <td>Private</td>\n      <td>7th-8th</td>\n      <td>Female</td>\n      <td>40</td>\n      <td>Machine-op-inspct</td>\n      <td>&lt;=50K</td>\n    </tr>\n    <tr>\n      <th>...</th>\n      <td>...</td>\n      <td>...</td>\n      <td>...</td>\n      <td>...</td>\n      <td>...</td>\n      <td>...</td>\n      <td>...</td>\n    </tr>\n    <tr>\n      <th>32557</th>\n      <td>22</td>\n      <td>Private</td>\n      <td>Some-college</td>\n      <td>Male</td>\n      <td>40</td>\n      <td>Protective-serv</td>\n      <td>&lt;=50K</td>\n    </tr>\n    <tr>\n      <th>32558</th>\n      <td>27</td>\n      <td>Private</td>\n      <td>Assoc-acdm</td>\n      <td>Female</td>\n      <td>38</td>\n      <td>Tech-support</td>\n      <td>&lt;=50K</td>\n    </tr>\n    <tr>\n      <th>32559</th>\n      <td>40</td>\n      <td>Private</td>\n      <td>HS-grad</td>\n      <td>Male</td>\n      <td>40</td>\n      <td>Machine-op-inspct</td>\n      <td>&gt;50K</td>\n    </tr>\n    <tr>\n      <th>32560</th>\n      <td>58</td>\n      <td>Private</td>\n      <td>HS-grad</td>\n      <td>Female</td>\n      <td>40</td>\n      <td>Adm-clerical</td>\n      <td>&lt;=50K</td>\n    </tr>\n    <tr>\n      <th>32561</th>\n      <td>22</td>\n      <td>Private</td>\n      <td>HS-grad</td>\n      <td>Male</td>\n      <td>20</td>\n      <td>Adm-clerical</td>\n      <td>&lt;=50K</td>\n    </tr>\n  </tbody>\n</table>\n<p>32562 rows × 7 columns</p>\n</div>"
     },
     "execution_count": 6,
     "metadata": {},
     "output_type": "execute_result"
    }
   ],
   "source": [
    "# before using get_dummies\n",
    "data"
   ],
   "metadata": {
    "collapsed": false,
    "pycharm": {
     "name": "#%%\n"
    }
   }
  },
  {
   "cell_type": "code",
   "execution_count": 8,
   "outputs": [
    {
     "name": "stdout",
     "output_type": "stream",
     "text": [
      "Features after get_dummies:\n",
      " ['age_17', 'age_18', 'age_19', 'age_20', 'age_21', 'age_22', 'age_23', 'age_24', 'age_25', 'age_26', 'age_27', 'age_28', 'age_29', 'age_30', 'age_31', 'age_32', 'age_33', 'age_34', 'age_35', 'age_36', 'age_37', 'age_38', 'age_39', 'age_40', 'age_41', 'age_42', 'age_43', 'age_44', 'age_45', 'age_46', 'age_47', 'age_48', 'age_49', 'age_50', 'age_51', 'age_52', 'age_53', 'age_54', 'age_55', 'age_56', 'age_57', 'age_58', 'age_59', 'age_60', 'age_61', 'age_62', 'age_63', 'age_64', 'age_65', 'age_66', 'age_67', 'age_68', 'age_69', 'age_70', 'age_71', 'age_72', 'age_73', 'age_74', 'age_75', 'age_76', 'age_77', 'age_78', 'age_79', 'age_80', 'age_81', 'age_82', 'age_83', 'age_84', 'age_85', 'age_86', 'age_87', 'age_88', 'age_90', 'age_age', 'workclass_?', 'workclass_Federal-gov', 'workclass_Local-gov', 'workclass_Never-worked', 'workclass_Private', 'workclass_Self-emp-inc', 'workclass_Self-emp-not-inc', 'workclass_State-gov', 'workclass_Without-pay', 'workclass_workclass', 'education_10th', 'education_11th', 'education_12th', 'education_1st-4th', 'education_5th-6th', 'education_7th-8th', 'education_9th', 'education_Assoc-acdm', 'education_Assoc-voc', 'education_Bachelors', 'education_Doctorate', 'education_HS-grad', 'education_Masters', 'education_Preschool', 'education_Prof-school', 'education_Some-college', 'education_education', 'gender_Female', 'gender_Male', 'hours-per-week_1', 'hours-per-week_10', 'hours-per-week_11', 'hours-per-week_12', 'hours-per-week_13', 'hours-per-week_14', 'hours-per-week_15', 'hours-per-week_16', 'hours-per-week_17', 'hours-per-week_18', 'hours-per-week_19', 'hours-per-week_2', 'hours-per-week_20', 'hours-per-week_21', 'hours-per-week_22', 'hours-per-week_23', 'hours-per-week_24', 'hours-per-week_25', 'hours-per-week_26', 'hours-per-week_27', 'hours-per-week_28', 'hours-per-week_29', 'hours-per-week_3', 'hours-per-week_30', 'hours-per-week_31', 'hours-per-week_32', 'hours-per-week_33', 'hours-per-week_34', 'hours-per-week_35', 'hours-per-week_36', 'hours-per-week_37', 'hours-per-week_38', 'hours-per-week_39', 'hours-per-week_4', 'hours-per-week_40', 'hours-per-week_41', 'hours-per-week_42', 'hours-per-week_43', 'hours-per-week_44', 'hours-per-week_45', 'hours-per-week_46', 'hours-per-week_47', 'hours-per-week_48', 'hours-per-week_49', 'hours-per-week_5', 'hours-per-week_50', 'hours-per-week_51', 'hours-per-week_52', 'hours-per-week_53', 'hours-per-week_54', 'hours-per-week_55', 'hours-per-week_56', 'hours-per-week_57', 'hours-per-week_58', 'hours-per-week_59', 'hours-per-week_6', 'hours-per-week_60', 'hours-per-week_61', 'hours-per-week_62', 'hours-per-week_63', 'hours-per-week_64', 'hours-per-week_65', 'hours-per-week_66', 'hours-per-week_67', 'hours-per-week_68', 'hours-per-week_7', 'hours-per-week_70', 'hours-per-week_72', 'hours-per-week_73', 'hours-per-week_74', 'hours-per-week_75', 'hours-per-week_76', 'hours-per-week_77', 'hours-per-week_78', 'hours-per-week_8', 'hours-per-week_80', 'hours-per-week_81', 'hours-per-week_82', 'hours-per-week_84', 'hours-per-week_85', 'hours-per-week_86', 'hours-per-week_87', 'hours-per-week_88', 'hours-per-week_89', 'hours-per-week_9', 'hours-per-week_90', 'hours-per-week_91', 'hours-per-week_92', 'hours-per-week_94', 'hours-per-week_95', 'hours-per-week_96', 'hours-per-week_97', 'hours-per-week_98', 'hours-per-week_99', 'hours-per-week_hours.per.week', 'occupation_?', 'occupation_Adm-clerical', 'occupation_Armed-Forces', 'occupation_Craft-repair', 'occupation_Exec-managerial', 'occupation_Farming-fishing', 'occupation_Handlers-cleaners', 'occupation_Machine-op-inspct', 'occupation_Other-service', 'occupation_Priv-house-serv', 'occupation_Prof-specialty', 'occupation_Protective-serv', 'occupation_Sales', 'occupation_Tech-support', 'occupation_Transport-moving', 'occupation_occupation', 'income_<=50K', 'income_>50K', 'income_income']\n"
     ]
    }
   ],
   "source": [
    "# using get_dummies\n",
    "data_dummies = pd.get_dummies(data)\n",
    "print(\"Features after get_dummies:\\n\", list(data_dummies.columns))"
   ],
   "metadata": {
    "collapsed": false,
    "pycharm": {
     "name": "#%%\n"
    }
   }
  }
 ],
 "metadata": {
  "kernelspec": {
   "display_name": "Python 3",
   "language": "python",
   "name": "python3"
  },
  "language_info": {
   "codemirror_mode": {
    "name": "ipython",
    "version": 2
   },
   "file_extension": ".py",
   "mimetype": "text/x-python",
   "name": "python",
   "nbconvert_exporter": "python",
   "pygments_lexer": "ipython2",
   "version": "2.7.6"
  }
 },
 "nbformat": 4,
 "nbformat_minor": 0
}