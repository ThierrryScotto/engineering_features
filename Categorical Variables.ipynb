{
 "cells": [
  {
   "cell_type": "markdown",
   "source": [
    "# Dummy Variables"
   ],
   "metadata": {
    "collapsed": false
   }
  },
  {
   "cell_type": "code",
   "execution_count": 8,
   "metadata": {
    "collapsed": true
   },
   "outputs": [
    {
     "data": {
      "text/plain": "   age  workclass     education  gender  hours-per-week         occupation  \\\n0  age  workclass     education     sex  hours.per.week         occupation   \n1   90          ?       HS-grad  Female              40                  ?   \n2   82    Private       HS-grad  Female              18    Exec-managerial   \n3   66          ?  Some-college  Female              40                  ?   \n4   54    Private       7th-8th  Female              40  Machine-op-inspct   \n\n   income  \n0  income  \n1   <=50K  \n2   <=50K  \n3   <=50K  \n4   <=50K  ",
      "text/html": "<div>\n<style scoped>\n    .dataframe tbody tr th:only-of-type {\n        vertical-align: middle;\n    }\n\n    .dataframe tbody tr th {\n        vertical-align: top;\n    }\n\n    .dataframe thead th {\n        text-align: right;\n    }\n</style>\n<table border=\"1\" class=\"dataframe\">\n  <thead>\n    <tr style=\"text-align: right;\">\n      <th></th>\n      <th>age</th>\n      <th>workclass</th>\n      <th>education</th>\n      <th>gender</th>\n      <th>hours-per-week</th>\n      <th>occupation</th>\n      <th>income</th>\n    </tr>\n  </thead>\n  <tbody>\n    <tr>\n      <th>0</th>\n      <td>age</td>\n      <td>workclass</td>\n      <td>education</td>\n      <td>sex</td>\n      <td>hours.per.week</td>\n      <td>occupation</td>\n      <td>income</td>\n    </tr>\n    <tr>\n      <th>1</th>\n      <td>90</td>\n      <td>?</td>\n      <td>HS-grad</td>\n      <td>Female</td>\n      <td>40</td>\n      <td>?</td>\n      <td>&lt;=50K</td>\n    </tr>\n    <tr>\n      <th>2</th>\n      <td>82</td>\n      <td>Private</td>\n      <td>HS-grad</td>\n      <td>Female</td>\n      <td>18</td>\n      <td>Exec-managerial</td>\n      <td>&lt;=50K</td>\n    </tr>\n    <tr>\n      <th>3</th>\n      <td>66</td>\n      <td>?</td>\n      <td>Some-college</td>\n      <td>Female</td>\n      <td>40</td>\n      <td>?</td>\n      <td>&lt;=50K</td>\n    </tr>\n    <tr>\n      <th>4</th>\n      <td>54</td>\n      <td>Private</td>\n      <td>7th-8th</td>\n      <td>Female</td>\n      <td>40</td>\n      <td>Machine-op-inspct</td>\n      <td>&lt;=50K</td>\n    </tr>\n  </tbody>\n</table>\n</div>"
     },
     "metadata": {},
     "output_type": "display_data"
    }
   ],
   "source": [
    "import pandas as pd\n",
    "\n",
    "# The file has no headers naming the columns, so we pass header=None\n",
    "# and provide the column names explicitly in \"names\"\n",
    "data = pd.read_csv(\"adult.csv\", header=None, index_col=False,\n",
    "                       names=['age', 'workclass', 'fnlwgt', 'education',  'education-num','marital-status', 'occupation', 'relationship', 'race', 'gender','capital-gain', 'capital-loss', 'hours-per-week', 'native-country','income'])\n",
    "\n",
    "# For illustration purpose, we only select some of the columns\n",
    "data = data[['age', 'workclass', 'education', 'gender', 'hours-per-week','occupation', 'income']]\n",
    "\n",
    "# IPython.display allows nice output formatting within the Jupyter notebook\n",
    "display(data.head())"
   ]
  },
  {
   "cell_type": "code",
   "execution_count": null,
   "outputs": [],
   "source": [],
   "metadata": {
    "collapsed": false,
    "pycharm": {
     "name": "#%%\n"
    }
   }
  }
 ],
 "metadata": {
  "kernelspec": {
   "display_name": "Python 3",
   "language": "python",
   "name": "python3"
  },
  "language_info": {
   "codemirror_mode": {
    "name": "ipython",
    "version": 2
   },
   "file_extension": ".py",
   "mimetype": "text/x-python",
   "name": "python",
   "nbconvert_exporter": "python",
   "pygments_lexer": "ipython2",
   "version": "2.7.6"
  }
 },
 "nbformat": 4,
 "nbformat_minor": 0
}